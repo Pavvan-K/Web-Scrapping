{
 "cells": [
  {
   "cell_type": "code",
   "execution_count": 1,
   "metadata": {},
   "outputs": [],
   "source": [
    "from selenium import webdriver\n",
    "from selenium.webdriver.common.keys import Keys\n",
    "from selenium.webdriver.common.desired_capabilities import DesiredCapabilities\n",
    "import pandas as pd\n",
    "import re\n",
    "import time"
   ]
  },
  {
   "cell_type": "markdown",
   "metadata": {},
   "source": [
    "## Pre-requesites:"
   ]
  },
  {
   "cell_type": "code",
   "execution_count": 2,
   "metadata": {},
   "outputs": [],
   "source": [
    "URL = \"https://www.medplusmart.com/drugsCategory/MEDICINES/Antacids-Antireflux-Agents-n-Antiulcerants/10002/10003\"\n",
    "driver_path = r'E:\\Selenium\\chromedriver.exe\n",
    "file_write_path = \"E:\\\\\""
   ]
  },
  {
   "cell_type": "code",
   "execution_count": 3,
   "metadata": {},
   "outputs": [],
   "source": [
    "browser = webdriver.Chrome(executable_path=driver_path)\n",
    "browser.get(URL)"
   ]
  },
  {
   "cell_type": "code",
   "execution_count": 4,
   "metadata": {},
   "outputs": [],
   "source": [
    "def single_page_scrape():\n",
    "    temp_df2=pd.DataFrame()\n",
    "    for row in range(1,26):\n",
    "        for col in range(1,4):\n",
    "            if col==1:\n",
    "                temp_df2.loc[row-1,\"Name\"]=\" \".join(browser.find_element_by_xpath(\"\"\"//*[@id=\"brandProductTable\"]/tbody/tr[{}]/td[{}]\"\"\".format(row,col)).text.split(\"\\n\"))\n",
    "            if col==2:\n",
    "                temp_df2.loc[row-1,\"Manufacturer\"]=\" \".join(browser.find_element_by_xpath(\"\"\"//*[@id=\"brandProductTable\"]/tbody/tr[{}]/td[{}]\"\"\".format(row,col)).text.split(\"\\n\"))\n",
    "            if col==3:\n",
    "                temp_df2.loc[row-1,\"Pack_Size\"]=\" \".join(browser.find_element_by_xpath(\"\"\"//*[@id=\"brandProductTable\"]/tbody/tr[{}]/td[{}]\"\"\".format(row,col)).text.split(\"\\n\"))\n",
    "            if col==4:\n",
    "                temp_df2.loc[row-1,\"MRP\"]=\" \".join(browser.find_element_by_xpath(\"\"\"//*[@id=\"brandProductTable\"]/tbody/tr[{}]/td[{}]\"\"\".format(row,col)).text.split(\"\\n\"))\n",
    "    return temp_df2"
   ]
  },
  {
   "cell_type": "code",
   "execution_count": null,
   "metadata": {},
   "outputs": [],
   "source": [
    "temp_df4 = pd.DataFrame()# Run only Once, Will create empty table."
   ]
  },
  {
   "cell_type": "markdown",
   "metadata": {},
   "source": [
    "## ITTERATIONS STARTS FROM HERE:"
   ]
  },
  {
   "cell_type": "code",
   "execution_count": null,
   "metadata": {},
   "outputs": [],
   "source": [
    "temp_df4 = temp_df4.append(single_page_scrape())## Run until page is fixed"
   ]
  },
  {
   "cell_type": "code",
   "execution_count": null,
   "metadata": {},
   "outputs": [],
   "source": [
    "total_pages = 0\n",
    "current_strucked_page_num = 0\n",
    "for i in range(1,(total_pages-(current_strucked_page_num-1))):\n",
    "    browser.find_element_by_xpath(\"\"\"//*[@id=\"pagination\"]/ul/li[{}]/a\"\"\".format(\"8\")).click()\n",
    "    time.sleep(2)\n",
    "    temp_df4 = temp_df4.append(single_page_scrape())\n",
    "    time.sleep(2)"
   ]
  },
  {
   "cell_type": "code",
   "execution_count": null,
   "metadata": {},
   "outputs": [],
   "source": []
  },
  {
   "cell_type": "code",
   "execution_count": null,
   "metadata": {},
   "outputs": [],
   "source": []
  },
  {
   "cell_type": "markdown",
   "metadata": {},
   "source": [
    "## Final Saving:"
   ]
  },
  {
   "cell_type": "code",
   "execution_count": null,
   "metadata": {},
   "outputs": [],
   "source": [
    "temp_df4.to_csv(file_write_path+\"Final_Scrapped_Data.csv\",index=False)## Run only if everything scrapped sucessfully!"
   ]
  }
 ],
 "metadata": {
  "kernelspec": {
   "display_name": "Python 3",
   "language": "python",
   "name": "python3"
  },
  "language_info": {
   "codemirror_mode": {
    "name": "ipython",
    "version": 3
   },
   "file_extension": ".py",
   "mimetype": "text/x-python",
   "name": "python",
   "nbconvert_exporter": "python",
   "pygments_lexer": "ipython3",
   "version": "3.6.4"
  }
 },
 "nbformat": 4,
 "nbformat_minor": 2
}
